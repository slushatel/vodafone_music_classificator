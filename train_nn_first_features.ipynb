{
 "cells": [
  {
   "cell_type": "code",
   "execution_count": 2,
   "metadata": {},
   "outputs": [],
   "source": [
    "import pandas as pd\n",
    "from sklearn.preprocessing import StandardScaler\n",
    "import scipy\n",
    "from sklearn.model_selection import train_test_split\n",
    "import numpy as np\n",
    "from keras.models import Sequential\n",
    "from keras.layers import Dense\n",
    "import os\n",
    "import keras.models\n",
    "from sklearn.metrics import r2_score, confusion_matrix, precision_score, recall_score, f1_score, cohen_kappa_score\n",
    "%matplotlib inline\n",
    "import matplotlib.pyplot as plt\n",
    "import seaborn as sns"
   ]
  },
  {
   "cell_type": "code",
   "execution_count": 3,
   "metadata": {
    "collapsed": false
   },
   "outputs": [],
   "source": [
    "\n",
    "train_data = pd.read_csv(\"d:/Downloads/Vodafone Music Challenge/Data/train_music.csv\", sep=',')\n",
    "# print(train_data.info())\n",
    "# print(train_data.sample(5))\n",
    "# print(train_data.describe())\n",
    "# print(pd.isnull(train_data))\n",
    "\n"
   ]
  },
  {
   "cell_type": "code",
   "execution_count": 4,
   "metadata": {},
   "outputs": [
    {
     "data": {
      "text/plain": [
       "<matplotlib.axes._subplots.AxesSubplot at 0x254577deba8>"
      ]
     },
     "execution_count": 4,
     "metadata": {},
     "output_type": "execute_result"
    },
    {
     "data": {
      "image/png": "[encoded data removed]",
      "text/plain": [
       "<Figure size 432x288 with 1 Axes>"
      ]
     },
     "metadata": {},
     "output_type": "display_data"
    }
   ],
   "source": [
    "# undersample 0 class\n",
    "sns.distplot(train_data['target'])"
   ]
  },
  {
   "cell_type": "code",
   "execution_count": 5,
   "metadata": {},
   "outputs": [
    {
     "data": {
      "text/plain": [
       "<matplotlib.axes._subplots.AxesSubplot at 0x254578a0b00>"
      ]
     },
     "execution_count": 5,
     "metadata": {},
     "output_type": "execute_result"
    },
    {
     "data": {
      "image/png": "[encoded data removed]",
      "text/plain": [
       "<Figure size 432x288 with 1 Axes>"
      ]
     },
     "metadata": {},
     "output_type": "display_data"
    }
   ],
   "source": [
    "target_one_count = len(train_data[train_data['target'] == 1])\n",
    "target_zero_indices = train_data[train_data.target == 0].index\n",
    "target_zero_random_indices = np.random.choice(target_zero_indices, target_one_count, replace=False)\n",
    "target_one_indices = train_data[train_data.target == 1].index\n",
    "under_sample_indices = np.concatenate([target_one_indices, target_zero_random_indices])\n",
    "train_data = train_data.loc[under_sample_indices]\n",
    "\n",
    "sns.distplot(train_data['target'])"
   ]
  },
  {
   "cell_type": "code",
   "execution_count": 6,
   "metadata": {},
   "outputs": [],
   "source": [
    "# split_to_train_test_sets\n",
    "x = train_data.iloc[:, 2:train_data.shape[1]]\n",
    "y = np.ravel(train_data.target)\n",
    "x_train, x_test, y_train, y_test = train_test_split(x, y, test_size=0.3, random_state=42)\n"
   ]
  },
  {
   "cell_type": "code",
   "execution_count": 7,
   "metadata": {},
   "outputs": [
    {
     "name": "stderr",
     "output_type": "stream",
     "text": [
      "D:\\work\\vodafone_music_classificator\\lib\\site-packages\\scipy\\stats\\stats.py:3038: RuntimeWarning: invalid value encountered in double_scalars\n  r = r_num / r_den\n"
     ]
    },
    {
     "name": "stdout",
     "output_type": "stream",
     "text": [
      "                ColName      Corr NullCount       Mean\n5                    lt  0.349129         0   0.744138\n140    content_count_m1  0.222507       198  61.695279\n368    content_count_m3  0.192362       642  59.035551\n255    content_count_m2  0.189489       440  60.709354\n21   count_sms_source_5  0.130418       701   0.584077\n"
     ]
    },
    {
     "name": "stderr",
     "output_type": "stream",
     "text": [
      "D:\\work\\vodafone_music_classificator\\lib\\site-packages\\pandas\\core\\generic.py:6130: SettingWithCopyWarning: \nA value is trying to be set on a copy of a slice from a DataFrame\n\nSee the caveats in the documentation: http://pandas.pydata.org/pandas-docs/stable/indexing.html#indexing-view-versus-copy\n  self._update_inplace(new_data)\n"
     ]
    }
   ],
   "source": [
    "# find first columns with the best correlation\n",
    "corframe = pd.DataFrame(columns=[\"ColName\", \"Corr\", \"NullCount\", \"Mean\"])\n",
    "line_count = x_train.index.size\n",
    "\n",
    "for column in x_train:\n",
    "    nas = np.logical_or(np.isnan(x_train[column].values), np.isnan(y_train))\n",
    "    cor = abs(scipy.stats.stats.pearsonr(x_train[column].values[~nas], y_train[~nas])[0])\n",
    "    # not to use columns with many nulls, more than 10%\n",
    "    null_count = np.isnan(x_train[column].values).sum()\n",
    "    if (null_count / line_count > 0.1):\n",
    "        continue\n",
    "    mean = x_train.loc[:, column].mean()\n",
    "    df = pd.DataFrame([[column, cor, null_count, mean]], columns=[\"ColName\", \"Corr\", \"NullCount\", \"Mean\"])\n",
    "    corframe = corframe.append(df, ignore_index=True)\n",
    "\n",
    "corframe = corframe.sort_values(by=\"Corr\", ascending=False)\n",
    "print(corframe.iloc[0:5, :])\n",
    "\n",
    "# fill nan with mean\n",
    "df_mean = x_train.mean()\n",
    "x_train.fillna(df_mean, inplace=True)\n",
    "x_test.fillna(df_mean, inplace=True)"
   ]
  },
  {
   "cell_type": "code",
   "execution_count": 8,
   "metadata": {},
   "outputs": [],
   "source": [
    "def get_model(x_train, y_train):\n",
    "    model_path = './vod_music_model.h5'\n",
    "    print(os.path.abspath(model_path))\n",
    "    if os.path.isfile(model_path):\n",
    "        model = keras.models.load_model(model_path);\n",
    "    else:\n",
    "        model = Sequential()\n",
    "\n",
    "        # Add an input layer\n",
    "        model.add(Dense(x_train.shape[1], activation='relu', input_shape=(x_train.shape[1],)))\n",
    "        model.add(Dense(8, activation='relu'))\n",
    "        model.add(Dense(1, activation='sigmoid'))\n",
    "        model.output_shape\n",
    "        model.summary()\n",
    "        model.get_config()\n",
    "        model.get_weights()\n",
    "\n",
    "        model.compile(loss='binary_crossentropy', optimizer='adam', metrics=['accuracy'])\n",
    "        model.fit(x_train, y_train, epochs=10, batch_size=10, verbose=1, validation_split=0.5)\n",
    "        model.save(model_path)\n",
    "    return model\n",
    "\n",
    "def train(x_train, y_train):\n",
    "    model = get_model(x_train, y_train)\n",
    "    return model\n"
   ]
  },
  {
   "cell_type": "code",
   "execution_count": 9,
   "metadata": {},
   "outputs": [
    {
     "name": "stdout",
     "output_type": "stream",
     "text": [
      "D:\\work\\vodafone_music_classificator\\vod_music_model.h5\n"
     ]
    },
    {
     "name": "stdout",
     "output_type": "stream",
     "text": [
      "test-pred correlation: 0.1785763991357038\n\r  32/3181 [..............................] - ETA: 3s"
     ]
    },
    {
     "name": "stdout",
     "output_type": "stream",
     "text": [
      "\b\b\b\b\b\b\b\b\b\b\b\b\b\b\b\b\b\b\b\b\b\b\b\b\b\b\b\b\b\b\b\b\b\b\b\b\b\b\b\b\b\b\b\b\b\b\b\b\b\b\b\b\r1216/3181 [==========>...................] - ETA: 0s"
     ]
    },
    {
     "name": "stdout",
     "output_type": "stream",
     "text": [
      "\b\b\b\b\b\b\b\b\b\b\b\b\b\b\b\b\b\b\b\b\b\b\b\b\b\b\b\b\b\b\b\b\b\b\b\b\b\b\b\b\b\b\b\b\b\b\b\b\b\b\b\b\r2464/3181 [======================>.......] - ETA: 0s"
     ]
    },
    {
     "name": "stdout",
     "output_type": "stream",
     "text": [
      "\b\b\b\b\b\b\b\b\b\b\b\b\b\b\b\b\b\b\b\b\b\b\b\b\b\b\b\b\b\b\b\b\b\b\b\b\b\b\b\b\b\b\b\b\b\b\b\b\b\b\b\b\r3181/3181 [==============================] - 0s 52us/step\n"
     ]
    },
    {
     "name": "stdout",
     "output_type": "stream",
     "text": [
      "score[0.6886567463480575, 0.5894372839011025]\n"
     ]
    }
   ],
   "source": [
    "# the count of most important features we will use\n",
    "n_features = 4\n",
    "model = train(x_train[corframe.values[0:n_features, 0]], y_train)\n",
    "y_pred = model.predict(x_test[corframe.values[0:n_features, 0]])\n",
    "cor_test = scipy.stats.stats.pearsonr(y_test, np.transpose(y_pred.round())[0])[0]\n",
    "print(\"test-pred correlation: \" + str(cor_test))\n",
    "score = model.evaluate(x_test[corframe.values[0:n_features, 0]], y_test, verbose=1)\n",
    "print(\"score\" + str(score))\n"
   ]
  },
  {
   "cell_type": "code",
   "execution_count": 10,
   "metadata": {},
   "outputs": [
    {
     "data": {
      "text/plain": [
       "<matplotlib.axes._subplots.AxesSubplot at 0x254000c9668>"
      ]
     },
     "execution_count": 10,
     "metadata": {},
     "output_type": "execute_result"
    },
    {
     "data": {
      "image/png": "[encoded data removed]",
      "text/plain": [
       "<Figure size 432x288 with 1 Axes>"
      ]
     },
     "metadata": {},
     "output_type": "display_data"
    }
   ],
   "source": [
    "sns.distplot(np.transpose(y_test))\n"
   ]
  },
  {
   "cell_type": "code",
   "execution_count": 11,
   "metadata": {},
   "outputs": [
    {
     "data": {
      "text/plain": [
       "<matplotlib.axes._subplots.AxesSubplot at 0x25410ad9080>"
      ]
     },
     "execution_count": 11,
     "metadata": {},
     "output_type": "execute_result"
    },
    {
     "data": {
      "image/png": "[encoded data removed]",
      "text/plain": [
       "<Figure size 432x288 with 1 Axes>"
      ]
     },
     "metadata": {},
     "output_type": "display_data"
    }
   ],
   "source": [
    "sns.distplot(np.transpose(y_pred)[0])\n"
   ]
  },
  {
   "cell_type": "code",
   "execution_count": 12,
   "metadata": {},
   "outputs": [
    {
     "data": {
      "text/plain": [
       "<matplotlib.axes._subplots.AxesSubplot at 0x25410a8aba8>"
      ]
     },
     "execution_count": 12,
     "metadata": {},
     "output_type": "execute_result"
    },
    {
     "data": {
      "image/png": "[encoded data removed]",
      "text/plain": [
       "<Figure size 432x288 with 1 Axes>"
      ]
     },
     "metadata": {},
     "output_type": "display_data"
    }
   ],
   "source": [
    "sns.distplot(np.transpose(y_pred.round())[0])\n"
   ]
  }
 ],
 "metadata": {
  "kernelspec": {
   "display_name": "Python 2",
   "language": "python",
   "name": "python2"
  },
  "language_info": {
   "codemirror_mode": {
    "name": "ipython",
    "version": 2
   },
   "file_extension": ".py",
   "mimetype": "text/x-python",
   "name": "python",
   "nbconvert_exporter": "python",
   "pygments_lexer": "ipython2",
   "version": "2.7.6"
  }
 },
 "nbformat": 4,
 "nbformat_minor": 0
}
